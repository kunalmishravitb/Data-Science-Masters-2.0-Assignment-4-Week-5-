{
 "cells": [
  {
   "cell_type": "markdown",
   "id": "38fda4a9-2deb-4474-b500-b7a08d378e37",
   "metadata": {},
   "source": [
    "## Q1. What is multiprocessing in python? Why is it useful?"
   ]
  },
  {
   "cell_type": "markdown",
   "id": "2a26e7d5-2025-4932-b9e7-b0c93963f9bd",
   "metadata": {},
   "source": [
    "Multiprocessing in Python refers to the ability to execute multiple processes concurrently, where each process runs independently and can utilize multiple CPU cores. It allows parallel execution of tasks, enabling programs to make efficient use of available resources and potentially improve performance. Multiprocessing is useful in scenarios where tasks can be executed independently and benefit from parallel processing, such as CPU-intensive computations, data processing, and concurrent I/O operations."
   ]
  },
  {
   "cell_type": "markdown",
   "id": "8fde48d5-17cf-469a-b8ed-c1134042e38a",
   "metadata": {},
   "source": [
    "## Q2. What are the differences between multiprocessing and multithreading?"
   ]
  },
  {
   "cell_type": "markdown",
   "id": "0a5e649f-da9b-4349-996e-89352ef89faa",
   "metadata": {},
   "source": [
    "The main differences between multiprocessing and multithreading are as follows:\n",
    "\n",
    "(1) Nature: Multiprocessing involves the execution of multiple processes, where each process has its own memory space. Multithreading, on the other hand, involves the execution of multiple threads within a single process, sharing the same memory space.\n",
    "\n",
    "(2) Concurrency: In multiprocessing, processes can truly run in parallel on multiple CPU cores, utilizing the full power of the system. In multithreading, threads run concurrently within the same process, but they share the CPU time, which means they may not execute in parallel.\n",
    "\n",
    "(3) Memory: In multiprocessing, each process has its own memory space, which provides improved memory isolation and reduces the risk of shared data issues. In multithreading, threads share the same memory space, which requires careful synchronization mechanisms to access shared data safely.\n",
    "\n",
    "(4) Overhead: Creating and managing processes in multiprocessing typically incurs more overhead compared to creating and managing threads in multithreading. Processes require more system resources and have higher startup and communication costs. However, multiprocessing can provide better performance in CPU-bound tasks due to true parallel execution."
   ]
  },
  {
   "cell_type": "markdown",
   "id": "5375a8da-74dd-4bd9-9e61-9fc1aadb7a01",
   "metadata": {},
   "source": [
    "## Q3. Write a python code to create a process using the multiprocessing module."
   ]
  },
  {
   "cell_type": "markdown",
   "id": "4f95c871-7cfb-4339-b126-186208ef13a9",
   "metadata": {},
   "source": [
    "Here's an example of creating a process using the 'multiprocessing' module in Python:"
   ]
  },
  {
   "cell_type": "code",
   "execution_count": 1,
   "id": "613ab8d9-164a-403c-82dd-f6b9456a443f",
   "metadata": {},
   "outputs": [
    {
     "name": "stdout",
     "output_type": "stream",
     "text": [
      "This is a child process.\n"
     ]
    }
   ],
   "source": [
    "import multiprocessing\n",
    "\n",
    "def my_process():\n",
    "    print(\"This is a child process.\")\n",
    "\n",
    "if __name__ == '__main__':\n",
    "    process = multiprocessing.Process(target=my_process)\n",
    "    process.start()\n",
    "    process.join()"
   ]
  },
  {
   "cell_type": "markdown",
   "id": "10cc3604-8820-4908-9ab4-158090af1338",
   "metadata": {},
   "source": [
    "## Q4. What is a multiprocessing pool in python? Why is it used?"
   ]
  },
  {
   "cell_type": "markdown",
   "id": "eccbcc60-f122-41ea-8746-9b49a8888c1e",
   "metadata": {},
   "source": [
    "A multiprocessing pool in Python refers to a group of worker processes that are managed collectively for executing tasks in parallel. The 'multiprocessing.Pool' class in the 'multiprocessing' module is used to create a multiprocessing pool. A multiprocessing pool is used to distribute work among multiple processes and maximize resource utilization. It allows you to parallelize the execution of tasks by dividing them among the available worker processes."
   ]
  },
  {
   "cell_type": "markdown",
   "id": "935c6586-24c1-402e-aec8-4530016d9e37",
   "metadata": {},
   "source": [
    "## Q5. How can we create a pool of worker processes in python using the multiprocessing module?"
   ]
  },
  {
   "cell_type": "markdown",
   "id": "af887015-2efb-4439-948c-795373b4766d",
   "metadata": {},
   "source": [
    "To create a pool of worker processes in Python using the 'multiprocessing' module, you can use the 'multiprocessing.Pool' class. Here's an example:"
   ]
  },
  {
   "cell_type": "code",
   "execution_count": 2,
   "id": "465a40df-f827-4905-9a42-517ce4b1ca8a",
   "metadata": {},
   "outputs": [
    {
     "name": "stdout",
     "output_type": "stream",
     "text": [
      "Process 1 executingProcess 2 executingProcess 4 executingProcess 3 executing\n",
      "\n",
      "\n",
      "\n"
     ]
    }
   ],
   "source": [
    "import multiprocessing\n",
    "\n",
    "def process_task(num):\n",
    "    print(f\"Process {num} executing\")\n",
    "\n",
    "if __name__ == '__main__':\n",
    "    pool = multiprocessing.Pool(processes=4)\n",
    "    nums = [1, 2, 3, 4]\n",
    "    pool.map(process_task, nums)\n",
    "    pool.close()\n",
    "    pool.join()"
   ]
  },
  {
   "cell_type": "markdown",
   "id": "bc8174fd-c7e8-4c0f-a071-1ff8a378aec7",
   "metadata": {},
   "source": [
    "## Q6. Write a python program to create 4 processes, each process should print a different number using the multiprocessing module in python."
   ]
  },
  {
   "cell_type": "markdown",
   "id": "2c704aa6-ad86-47d3-807d-9c05bac777bd",
   "metadata": {},
   "source": [
    "Here's a Python program that creates four processes, and each process prints a different number using the 'multiprocessing' module:"
   ]
  },
  {
   "cell_type": "code",
   "execution_count": 3,
   "id": "a0e70507-c75a-4bc8-87ae-48dc88c14dc7",
   "metadata": {},
   "outputs": [
    {
     "name": "stdout",
     "output_type": "stream",
     "text": [
      "Process 1: 1\n",
      "Process 2: 2\n",
      "Process 3: 3\n",
      "Process 4: 4\n"
     ]
    }
   ],
   "source": [
    "import multiprocessing\n",
    "\n",
    "def print_number(num):\n",
    "    print(f\"Process {num}: {num}\")\n",
    "\n",
    "if __name__ == '__main__':\n",
    "    processes = []\n",
    "    for i in range(1, 5):\n",
    "        process = multiprocessing.Process(target=print_number, args=(i,))\n",
    "        process.start()\n",
    "        processes.append(process)\n",
    "\n",
    "    for process in processes:\n",
    "        process.join()"
   ]
  }
 ],
 "metadata": {
  "kernelspec": {
   "display_name": "Python 3 (ipykernel)",
   "language": "python",
   "name": "python3"
  },
  "language_info": {
   "codemirror_mode": {
    "name": "ipython",
    "version": 3
   },
   "file_extension": ".py",
   "mimetype": "text/x-python",
   "name": "python",
   "nbconvert_exporter": "python",
   "pygments_lexer": "ipython3",
   "version": "3.10.8"
  }
 },
 "nbformat": 4,
 "nbformat_minor": 5
}
